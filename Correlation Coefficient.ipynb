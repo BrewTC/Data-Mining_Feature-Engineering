{
 "cells": [
  {
   "cell_type": "markdown",
   "id": "e50abd34",
   "metadata": {},
   "source": [
    "https://re-thought.com/exploring-correlation-in-python/"
   ]
  },
  {
   "cell_type": "code",
   "execution_count": 10,
   "id": "1b5888ab",
   "metadata": {},
   "outputs": [],
   "source": [
    "import pandas as pd\n",
    "import numpy as np\n",
    "import math\n",
    "import seaborn as sns\n",
    "import matplotlib.pyplot as plt\n",
    "from scipy.stats import norm\n",
    "\n",
    "df = pd.read_csv('0615 old feature_std 3.0_spare 40_PQRST.csv')\n",
    "\n",
    "X = df.drop('old',axis = 1)\n",
    "y = df['old']"
   ]
  },
  {
   "cell_type": "markdown",
   "id": "ae444de2",
   "metadata": {},
   "source": [
    "# 皮爾森積動差相關係數\n",
    "## （Pearson product-moment correlation coefficient）"
   ]
  },
  {
   "cell_type": "code",
   "execution_count": 11,
   "id": "8477fc06",
   "metadata": {},
   "outputs": [
    {
     "data": {
      "text/plain": [
       "ecg_R_intervals  ecg_hr_mean             -0.989087\n",
       "ecg_hr_mean      ecg_R_intervals         -0.989087\n",
       "ecg_Q_intervals  ecg_hr_mean             -0.987422\n",
       "ecg_hr_mean      ecg_Q_intervals         -0.987422\n",
       "                 ecg_Q_onset_intervals   -0.987187\n",
       "                                            ...   \n",
       "cardiovascular   old                           NaN\n",
       "hbp              cardiovascular                NaN\n",
       "diabetes         cardiovascular                NaN\n",
       "recode_T         cardiovascular                NaN\n",
       "old              cardiovascular                NaN\n",
       "Length: 24649, dtype: float64"
      ]
     },
     "execution_count": 11,
     "metadata": {},
     "output_type": "execute_result"
    }
   ],
   "source": [
    "corrmat = df.corr(method='pearson')\n",
    "  \n",
    "# Convert correlation matrix to 1-D Series and sort\n",
    "sorted_mat = corrmat.unstack().sort_values()\n",
    "\n",
    "sorted_mat"
   ]
  },
  {
   "cell_type": "code",
   "execution_count": 12,
   "id": "63567efa",
   "metadata": {},
   "outputs": [
    {
     "data": {
      "text/plain": [
       "pandas.core.series.Series"
      ]
     },
     "execution_count": 12,
     "metadata": {},
     "output_type": "execute_result"
    }
   ],
   "source": [
    "type(sorted_mat)"
   ]
  },
  {
   "cell_type": "markdown",
   "id": "e1f4dc38",
   "metadata": {},
   "source": [
    "# 斯皮爾曼等級相關係數\n",
    "## （Spearman’s rank correlation coefficient）"
   ]
  },
  {
   "cell_type": "code",
   "execution_count": 13,
   "id": "694b7886",
   "metadata": {},
   "outputs": [],
   "source": [
    "# 第一種寫法，取得相關矩陣\n",
    "df_corr = df.corr(method=\"spearman\")\n",
    "\n",
    "df_corr.to_csv(\"0616 spearman corr.csv\", index= True)"
   ]
  },
  {
   "cell_type": "code",
   "execution_count": 5,
   "id": "7e50463b",
   "metadata": {},
   "outputs": [],
   "source": [
    "from scipy.stats import spearmanr"
   ]
  },
  {
   "cell_type": "code",
   "execution_count": 6,
   "id": "4d501818",
   "metadata": {
    "scrolled": false
   },
   "outputs": [
    {
     "name": "stderr",
     "output_type": "stream",
     "text": [
      "C:\\Users\\user\\anaconda3\\lib\\site-packages\\numpy\\lib\\function_base.py:2642: RuntimeWarning: invalid value encountered in true_divide\n",
      "  c /= stddev[:, None]\n",
      "C:\\Users\\user\\anaconda3\\lib\\site-packages\\numpy\\lib\\function_base.py:2643: RuntimeWarning: invalid value encountered in true_divide\n",
      "  c /= stddev[None, :]\n"
     ]
    },
    {
     "data": {
      "text/plain": [
       "array([[ 1.        ,  0.52962096,  0.7945782 , ..., -0.11846936,\n",
       "        -0.07273914, -0.10028612],\n",
       "       [ 0.52962096,  1.        ,  0.38780252, ..., -0.07686283,\n",
       "        -0.12987358,  0.07058684],\n",
       "       [ 0.7945782 ,  0.38780252,  1.        , ..., -0.12800726,\n",
       "        -0.08511218, -0.08948813],\n",
       "       ...,\n",
       "       [-0.11846936, -0.07686283, -0.12800726, ...,  1.        ,\n",
       "        -0.03942212,  0.08284436],\n",
       "       [-0.07273914, -0.12987358, -0.08511218, ..., -0.03942212,\n",
       "         1.        , -0.03157162],\n",
       "       [-0.10028612,  0.07058684, -0.08948813, ...,  0.08284436,\n",
       "        -0.03157162,  1.        ]])"
      ]
     },
     "execution_count": 6,
     "metadata": {},
     "output_type": "execute_result"
    }
   ],
   "source": [
    "# 第二種寫法\n",
    "import scipy\n",
    "\n",
    "corr_spearman, spearman_pvalue = scipy.stats.spearmanr(df)\n",
    "\n",
    "corr_spearman"
   ]
  },
  {
   "cell_type": "code",
   "execution_count": 7,
   "id": "aab057e2",
   "metadata": {},
   "outputs": [
    {
     "data": {
      "text/plain": [
       "array([[0.00000000e+000, 0.00000000e+000, 0.00000000e+000, ...,\n",
       "        0.00000000e+000, 8.25958257e-213, 0.00000000e+000],\n",
       "       [0.00000000e+000, 0.00000000e+000, 0.00000000e+000, ...,\n",
       "        1.89458215e-237, 0.00000000e+000, 1.70999595e-200],\n",
       "       [0.00000000e+000, 0.00000000e+000, 0.00000000e+000, ...,\n",
       "        0.00000000e+000, 7.33350020e-291, 0.00000000e+000],\n",
       "       ...,\n",
       "       [0.00000000e+000, 1.89458215e-237, 0.00000000e+000, ...,\n",
       "        0.00000000e+000, 9.17140406e-064, 1.25169366e-275],\n",
       "       [8.25958257e-213, 0.00000000e+000, 7.33350020e-291, ...,\n",
       "        9.17140406e-064, 0.00000000e+000, 1.58538607e-041],\n",
       "       [0.00000000e+000, 1.70999595e-200, 0.00000000e+000, ...,\n",
       "        1.25169366e-275, 1.58538607e-041, 0.00000000e+000]])"
      ]
     },
     "execution_count": 7,
     "metadata": {},
     "output_type": "execute_result"
    }
   ],
   "source": [
    "spearman_pvalue"
   ]
  },
  {
   "cell_type": "code",
   "execution_count": 8,
   "id": "166c36d0",
   "metadata": {
    "scrolled": true
   },
   "outputs": [
    {
     "data": {
      "text/plain": [
       "array([[ 1.        ,  0.52962096,  0.7945782 , ..., -0.04732096,\n",
       "        -0.11846936, -0.07273914],\n",
       "       [ 0.52962096,  1.        ,  0.38780252, ...,  0.06671213,\n",
       "        -0.07686283, -0.12987358],\n",
       "       [ 0.7945782 ,  0.38780252,  1.        , ..., -0.06872137,\n",
       "        -0.12800726, -0.08511218],\n",
       "       ...,\n",
       "       [-0.04732096,  0.06671213, -0.06872137, ...,  1.        ,\n",
       "         0.13165912, -0.01832715],\n",
       "       [-0.11846936, -0.07686283, -0.12800726, ...,  0.13165912,\n",
       "         1.        , -0.03942212],\n",
       "       [-0.07273914, -0.12987358, -0.08511218, ..., -0.01832715,\n",
       "        -0.03942212,  1.        ]])"
      ]
     },
     "execution_count": 8,
     "metadata": {},
     "output_type": "execute_result"
    }
   ],
   "source": [
    "# 第三種寫法\n",
    "rho, p = spearmanr(X)\n",
    "rho"
   ]
  },
  {
   "cell_type": "code",
   "execution_count": 9,
   "id": "bbd25787",
   "metadata": {},
   "outputs": [
    {
     "data": {
      "text/plain": [
       "array([[0.00000000e+000, 0.00000000e+000, 0.00000000e+000, ...,\n",
       "        4.42466149e-091, 0.00000000e+000, 8.25958257e-213],\n",
       "       [0.00000000e+000, 0.00000000e+000, 0.00000000e+000, ...,\n",
       "        2.92284328e-179, 1.89458215e-237, 0.00000000e+000],\n",
       "       [0.00000000e+000, 0.00000000e+000, 0.00000000e+000, ...,\n",
       "        4.03819358e-190, 0.00000000e+000, 7.33350020e-291],\n",
       "       ...,\n",
       "       [4.42466149e-091, 2.92284328e-179, 4.03819358e-190, ...,\n",
       "        0.00000000e+000, 0.00000000e+000, 4.69620522e-015],\n",
       "       [0.00000000e+000, 1.89458215e-237, 0.00000000e+000, ...,\n",
       "        0.00000000e+000, 0.00000000e+000, 9.17140406e-064],\n",
       "       [8.25958257e-213, 0.00000000e+000, 7.33350020e-291, ...,\n",
       "        4.69620522e-015, 9.17140406e-064, 0.00000000e+000]])"
      ]
     },
     "execution_count": 9,
     "metadata": {},
     "output_type": "execute_result"
    }
   ],
   "source": [
    "p"
   ]
  },
  {
   "cell_type": "markdown",
   "id": "480c43bf",
   "metadata": {},
   "source": [
    "# 肯德爾等級相關係數  \n",
    "## (Kendall correlation coefficients)  \n",
    "\n",
    "肯德爾等級相關係數，主要是觀察兩個類別型特徵之間的關係強度  \n",
    "Kendall 的 tau 是衡量兩個排名之間對應關係的指標  \n",
    "這是一種序數數據的相關性度量  \n",
    "tau接近 1 的值表示非常一致，接近 -1 的值表示非常不同意。"
   ]
  },
  {
   "cell_type": "code",
   "execution_count": 39,
   "id": "6ecc1cd1",
   "metadata": {},
   "outputs": [
    {
     "data": {
      "text/plain": [
       "-0.4714045207910316"
      ]
     },
     "execution_count": 39,
     "metadata": {},
     "output_type": "execute_result"
    }
   ],
   "source": [
    "# example\n",
    "from scipy import stats\n",
    "x1 = [12, 2, 1, 12, 2]\n",
    "x2 = [1, 4, 7, 1, 0]\n",
    "tau, p_value = stats.kendalltau(x1, x2)\n",
    "tau"
   ]
  },
  {
   "cell_type": "code",
   "execution_count": 40,
   "id": "1356d078",
   "metadata": {},
   "outputs": [
    {
     "data": {
      "text/plain": [
       "0.2827454599327748"
      ]
     },
     "execution_count": 40,
     "metadata": {},
     "output_type": "execute_result"
    }
   ],
   "source": [
    "p_value"
   ]
  },
  {
   "cell_type": "code",
   "execution_count": 44,
   "id": "3c7dca72",
   "metadata": {},
   "outputs": [
    {
     "data": {
      "text/plain": [
       "0.08164899918520882"
      ]
     },
     "execution_count": 44,
     "metadata": {},
     "output_type": "execute_result"
    }
   ],
   "source": [
    "from scipy.stats import kendalltau\n",
    "\n",
    "tau,  p_value = scipy.stats.kendalltau(df['old'], df['diabetes'])\n",
    "\n",
    "tau"
   ]
  },
  {
   "cell_type": "code",
   "execution_count": 45,
   "id": "d21c4d11",
   "metadata": {},
   "outputs": [
    {
     "data": {
      "text/plain": [
       "9.853184446753511e-275"
      ]
     },
     "execution_count": 45,
     "metadata": {},
     "output_type": "execute_result"
    }
   ],
   "source": [
    "p_value"
   ]
  },
  {
   "cell_type": "code",
   "execution_count": null,
   "id": "9a10d306",
   "metadata": {},
   "outputs": [],
   "source": []
  }
 ],
 "metadata": {
  "kernelspec": {
   "display_name": "base",
   "language": "python",
   "name": "python3"
  },
  "language_info": {
   "codemirror_mode": {
    "name": "ipython",
    "version": 3
   },
   "file_extension": ".py",
   "mimetype": "text/x-python",
   "name": "python",
   "nbconvert_exporter": "python",
   "pygments_lexer": "ipython3",
   "version": "3.9.7 (default, Sep 16 2021, 16:59:28) [MSC v.1916 64 bit (AMD64)]"
  },
  "vscode": {
   "interpreter": {
    "hash": "f08154012ddadd8e950e6e9e035c7a7b32c136e7647e9b7c77e02eb723a8bedb"
   }
  }
 },
 "nbformat": 4,
 "nbformat_minor": 5
}
