{
 "cells": [
  {
   "attachments": {},
   "cell_type": "markdown",
   "id": "62b1e7e0",
   "metadata": {},
   "source": [
    "Regularization methods是常見的方法，在機器學習上Regularization會對模型的參數加入懲罰或不利條件來降低它的自由度(freedom)，這個懲罰是加在係數(coefficient)上，系數在線性模型上會和特徵相乘，也就是對係數加入門檻來懲罰特徵；這樣做可以避免overfitting，並增加模型的generalization。\n",
    "\n",
    "就線性模型而言，有三種主要型態的regularization：\n",
    "- Lasso regression 或 L1 regularization\n",
    "- Ridge regression 或 L2 regularization\n",
    "- Elastic nets 或 L1/L2 regularization\n",
    "\n",
    "Lasso(Least Absolute Shrinkage and Selection Operator) regression\n",
    "使用L1 regularization 讓不重要的係數值變成0\n",
    "假如一個特徵是不重要的，Lasso會懲罰它的係數，使他的係數為0。因此，系數為0(coefficient=0)的特徵會被移除，剩下的就是我們選取的。\n",
    "\n",
    "https://ithelp.ithome.com.tw/articles/10246876"
   ]
  },
  {
   "cell_type": "code",
   "execution_count": 1,
   "id": "30cc0d2e",
   "metadata": {},
   "outputs": [],
   "source": [
    "import pandas as pd\n",
    "import numpy as np\n",
    "import statsmodels.api as sm\n",
    "import matplotlib\n",
    "import matplotlib.pyplot as plt\n",
    "import seaborn as sns\n",
    "%matplotlib inline\n",
    "from sklearn.model_selection import train_test_split\n",
    "from sklearn.linear_model import LinearRegression\n",
    "\n",
    "\n",
    "\n",
    "df = pd.read_csv('111.06.15 mother_data30ww_clean_old.csv')\n",
    "\n",
    "X=df.drop(\"old\",axis=1)\n",
    "y=df[\"old\"]"
   ]
  },
  {
   "cell_type": "code",
   "execution_count": 2,
   "id": "296f97f9",
   "metadata": {
    "scrolled": true
   },
   "outputs": [
    {
     "name": "stdout",
     "output_type": "stream",
     "text": [
      "Requirement already satisfied: lasso in c:\\users\\user\\anaconda3\\lib\\site-packages (0.0.3)\n",
      "Requirement already satisfied: delorean>=0.4.4 in c:\\users\\user\\anaconda3\\lib\\site-packages (from lasso) (1.0.0)\n",
      "Requirement already satisfied: schema>=0.3.1 in c:\\users\\user\\anaconda3\\lib\\site-packages (from lasso) (0.7.5)\n",
      "Requirement already satisfied: python-dateutil>=2.4.2 in c:\\users\\user\\anaconda3\\lib\\site-packages (from delorean>=0.4.4->lasso) (2.8.2)\n",
      "Requirement already satisfied: tzlocal>=1.2 in c:\\users\\user\\anaconda3\\lib\\site-packages (from delorean>=0.4.4->lasso) (4.2)\n",
      "Requirement already satisfied: humanize>=0.5.1 in c:\\users\\user\\anaconda3\\lib\\site-packages (from delorean>=0.4.4->lasso) (4.1.0)\n",
      "Requirement already satisfied: pytz>=2015.7 in c:\\users\\user\\anaconda3\\lib\\site-packages (from delorean>=0.4.4->lasso) (2021.3)\n",
      "Requirement already satisfied: babel>=2.1.1 in c:\\users\\user\\anaconda3\\lib\\site-packages (from delorean>=0.4.4->lasso) (2.9.1)\n",
      "Requirement already satisfied: six>=1.5 in c:\\users\\user\\anaconda3\\lib\\site-packages (from python-dateutil>=2.4.2->delorean>=0.4.4->lasso) (1.16.0)\n",
      "Requirement already satisfied: contextlib2>=0.5.5 in c:\\users\\user\\anaconda3\\lib\\site-packages (from schema>=0.3.1->lasso) (0.6.0.post1)\n",
      "Requirement already satisfied: pytz-deprecation-shim in c:\\users\\user\\anaconda3\\lib\\site-packages (from tzlocal>=1.2->delorean>=0.4.4->lasso) (0.1.0.post0)\n",
      "Requirement already satisfied: tzdata in c:\\users\\user\\anaconda3\\lib\\site-packages (from tzlocal>=1.2->delorean>=0.4.4->lasso) (2022.1)\n"
     ]
    }
   ],
   "source": [
    "!pip install lasso"
   ]
  },
  {
   "cell_type": "code",
   "execution_count": 3,
   "id": "3cc92fb9",
   "metadata": {},
   "outputs": [
    {
     "name": "stdout",
     "output_type": "stream",
     "text": [
      "Requirement already satisfied: sklearn-linear-model-modification in c:\\users\\user\\anaconda3\\lib\\site-packages (0.0.11)\n",
      "Requirement already satisfied: scikit-learn>=0.20.0 in c:\\users\\user\\anaconda3\\lib\\site-packages (from sklearn-linear-model-modification) (1.0.2)\n",
      "Requirement already satisfied: statsmodels>=0.12.0 in c:\\users\\user\\anaconda3\\lib\\site-packages (from sklearn-linear-model-modification) (0.12.2)\n",
      "Requirement already satisfied: pandas>=1.0.0 in c:\\users\\user\\anaconda3\\lib\\site-packages (from sklearn-linear-model-modification) (1.3.4)\n",
      "Requirement already satisfied: numpy>=1.16.1 in c:\\users\\user\\anaconda3\\lib\\site-packages (from sklearn-linear-model-modification) (1.20.3)\n",
      "Requirement already satisfied: scipy>=1.3.0 in c:\\users\\user\\anaconda3\\lib\\site-packages (from sklearn-linear-model-modification) (1.7.1)\n",
      "Requirement already satisfied: python-dateutil>=2.7.3 in c:\\users\\user\\anaconda3\\lib\\site-packages (from pandas>=1.0.0->sklearn-linear-model-modification) (2.8.2)\n",
      "Requirement already satisfied: pytz>=2017.3 in c:\\users\\user\\anaconda3\\lib\\site-packages (from pandas>=1.0.0->sklearn-linear-model-modification) (2021.3)\n",
      "Requirement already satisfied: six>=1.5 in c:\\users\\user\\anaconda3\\lib\\site-packages (from python-dateutil>=2.7.3->pandas>=1.0.0->sklearn-linear-model-modification) (1.16.0)\n",
      "Requirement already satisfied: joblib>=0.11 in c:\\users\\user\\anaconda3\\lib\\site-packages (from scikit-learn>=0.20.0->sklearn-linear-model-modification) (1.1.0)\n",
      "Requirement already satisfied: threadpoolctl>=2.0.0 in c:\\users\\user\\anaconda3\\lib\\site-packages (from scikit-learn>=0.20.0->sklearn-linear-model-modification) (2.2.0)\n",
      "Requirement already satisfied: patsy>=0.5 in c:\\users\\user\\anaconda3\\lib\\site-packages (from statsmodels>=0.12.0->sklearn-linear-model-modification) (0.5.2)\n"
     ]
    }
   ],
   "source": [
    "!pip install sklearn-linear-model-modification"
   ]
  },
  {
   "cell_type": "markdown",
   "id": "1595ff41",
   "metadata": {},
   "source": [
    "# Regularization methods  \n",
    "\n",
    "Lasso(Least Absolute Shrinkage and Selection Operator) regression  \n",
    "使用L1 regularization 讓不重要的係數值變成0"
   ]
  },
  {
   "cell_type": "code",
   "execution_count": 4,
   "id": "6a875703",
   "metadata": {
    "scrolled": true
   },
   "outputs": [
    {
     "name": "stderr",
     "output_type": "stream",
     "text": [
      "C:\\Users\\user\\anaconda3\\lib\\site-packages\\sklearn\\linear_model\\_coordinate_descent.py:647: ConvergenceWarning: Objective did not converge. You might want to increase the number of iterations, check the scale of the features or consider increasing regularisation. Duality gap: 1.214e+07, tolerance: 4.461e+03\n",
      "  model = cd_fast.enet_coordinate_descent(\n"
     ]
    }
   ],
   "source": [
    "from sklearn.linear_model import Lasso\n",
    "\n",
    "reg=Lasso()\n",
    "reg.fit(X,y)\n",
    "\n",
    "coef=pd.Series(reg.coef_,index=X.columns)\n",
    "\n",
    "\n",
    "# coef.to_csv(\"0617 L1.csv\")"
   ]
  },
  {
   "cell_type": "code",
   "execution_count": null,
   "id": "b95777ef",
   "metadata": {},
   "outputs": [],
   "source": [
    "keep_cols = [feature for feature, weight in zip (X.columns, reg.coef_) if weight != 0]\n",
    "\n",
    "keep_cols"
   ]
  },
  {
   "cell_type": "markdown",
   "id": "671aab51",
   "metadata": {},
   "source": [
    "Ridge regression  \n",
    "使用L2 regularization 讓係數值分散的更平均 並且不會讓係數縮小成0"
   ]
  },
  {
   "cell_type": "code",
   "execution_count": 6,
   "id": "9d02d1f2",
   "metadata": {},
   "outputs": [
    {
     "data": {
      "text/plain": [
       "RMSSD               0.057748\n",
       "meanNN              0.005448\n",
       "sdNN               -0.080116\n",
       "cvNN              -76.630760\n",
       "CVSD             -127.595114\n",
       "                     ...    \n",
       "smokes             -1.236473\n",
       "cardiovascular      0.000000\n",
       "hbp                 2.927060\n",
       "diabetes            0.671083\n",
       "recode_T           -0.000529\n",
       "Length: 188, dtype: float64"
      ]
     },
     "execution_count": 6,
     "metadata": {},
     "output_type": "execute_result"
    }
   ],
   "source": [
    "from sklearn.linear_model import RidgeCV, Ridge\n",
    "\n",
    "ridgecv=RidgeCV()\n",
    "ridgecv.fit(X,y)\n",
    "\n",
    "coef_rc=pd.Series(ridgecv.coef_,index=X.columns)\n",
    "\n",
    "coef_rc\n",
    "\n",
    "# coef_rc.to_csv(\"0617 L2.csv\")"
   ]
  },
  {
   "cell_type": "code",
   "execution_count": null,
   "id": "e773a715",
   "metadata": {},
   "outputs": [],
   "source": [
    "keep_cols = [feature for feature, weight in zip (X.columns, ridgecv.coef_) if weight != 0]\n",
    "\n",
    "keep_cols"
   ]
  },
  {
   "cell_type": "markdown",
   "id": "c02bdf1e",
   "metadata": {},
   "source": [
    "## elastic nets  \n",
    "elastic nets是結合了lasso和ridge regression的模型"
   ]
  },
  {
   "cell_type": "code",
   "execution_count": 8,
   "id": "9cca9c60",
   "metadata": {},
   "outputs": [
    {
     "name": "stderr",
     "output_type": "stream",
     "text": [
      "C:\\Users\\user\\anaconda3\\lib\\site-packages\\sklearn\\linear_model\\_coordinate_descent.py:647: ConvergenceWarning: Objective did not converge. You might want to increase the number of iterations, check the scale of the features or consider increasing regularisation. Duality gap: 4.072e+06, tolerance: 4.461e+03\n",
      "  model = cd_fast.enet_coordinate_descent(\n"
     ]
    },
    {
     "data": {
      "text/plain": [
       "RMSSD             0.102439\n",
       "meanNN            0.003370\n",
       "sdNN             -0.075308\n",
       "cvNN             -0.000000\n",
       "CVSD              0.000000\n",
       "                    ...   \n",
       "smokes           -0.000000\n",
       "cardiovascular    0.000000\n",
       "hbp               0.345487\n",
       "diabetes          0.250707\n",
       "recode_T         -0.000278\n",
       "Length: 188, dtype: float64"
      ]
     },
     "execution_count": 8,
     "metadata": {},
     "output_type": "execute_result"
    }
   ],
   "source": [
    "from sklearn.linear_model import ElasticNet\n",
    "\n",
    "e_net = ElasticNet(alpha = 1)\n",
    "e_net.fit(X, y)\n",
    "\n",
    "coef=pd.Series(e_net.coef_,index=X.columns)\n",
    "\n",
    "coef\n",
    "\n",
    "# coef.to_csv(\"0617 e_net.csv\")"
   ]
  },
  {
   "cell_type": "code",
   "execution_count": null,
   "id": "b851420d",
   "metadata": {},
   "outputs": [],
   "source": [
    "keep_cols = [feature for feature, weight in zip (X.columns, e_net.coef_) if weight != 0]\n",
    "keep_cols"
   ]
  }
 ],
 "metadata": {
  "kernelspec": {
   "display_name": "Python 3.9.7 ('base')",
   "language": "python",
   "name": "python3"
  },
  "language_info": {
   "codemirror_mode": {
    "name": "ipython",
    "version": 3
   },
   "file_extension": ".py",
   "mimetype": "text/x-python",
   "name": "python",
   "nbconvert_exporter": "python",
   "pygments_lexer": "ipython3",
   "version": "3.9.7"
  },
  "vscode": {
   "interpreter": {
    "hash": "a077222d77dfe082b8f1dd562ad70e458ac2ab76993a0b248ab0476e32e9e8dd"
   }
  }
 },
 "nbformat": 4,
 "nbformat_minor": 5
}
